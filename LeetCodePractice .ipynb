{
  "nbformat": 4,
  "nbformat_minor": 0,
  "metadata": {
    "colab": {
      "provenance": []
    },
    "kernelspec": {
      "name": "python3",
      "display_name": "Python 3"
    },
    "language_info": {
      "name": "python"
    }
  },
  "cells": [
    {
      "cell_type": "code",
      "execution_count": null,
      "metadata": {
        "colab": {
          "base_uri": "https://localhost:8080/"
        },
        "id": "CCrbZDP8-h8U",
        "outputId": "746d769f-817f-485c-c9c9-e67813832c84"
      },
      "outputs": [
        {
          "output_type": "stream",
          "name": "stdout",
          "text": [
            "1994\n"
          ]
        }
      ],
      "source": [
        "# Roman to integer Problem Leet code\n",
        "class Solution:\n",
        "    def romanToInt(self, s: str) -> int:\n",
        "        m = {\n",
        "            'I': 1,\n",
        "            'V': 5,\n",
        "            'X': 10,\n",
        "            'L': 50,\n",
        "            'C': 100,\n",
        "            'D': 500,\n",
        "            'M': 1000\n",
        "        }\n",
        "        reversedString = s[::-1]\n",
        "        value=0\n",
        "        index=0\n",
        "        while index<len(s):\n",
        "          char=reversedString[index]\n",
        "          # case of IV and IX\n",
        "          if(index+1<len(s) and  (char=='V' or char=='X') and reversedString[index+1]=='I'):\n",
        "              value+=m[char]-1\n",
        "              index=index+1\n",
        "          # case of XL and XC\n",
        "          elif(index+1<len(s) and  (char=='L' or char=='C') and reversedString[index+1]=='X'):\n",
        "              value+=m[char]-10\n",
        "              index=index+1\n",
        "          # case of CD and CM\n",
        "          elif(index+1<len(s) and  (char=='D' or char=='M') and reversedString[index+1]=='C'):\n",
        "              value+=m[char]-100\n",
        "              index=index+1\n",
        "          else:\n",
        "            value+=m[char]\n",
        "          index+=1\n",
        "solution = Solution()\n",
        "solution.romanToInt(\"MCMXCIV\")# your code goes here"
      ]
    },
    {
      "cell_type": "code",
      "source": [
        "# Longest common prefix\n",
        "from typing import List\n",
        "\n",
        "class Solution:\n",
        "    def longestCommonPrefix(self, strs: List[str]) -> str:\n",
        "      resultString=\"\"\n",
        "      for charsTuple in zip(*strs):\n",
        "        all_chars_equal=all(character==charsTuple[0] for character in charsTuple)\n",
        "        if(all_chars_equal):\n",
        "          resultString+=charsTuple[0]\n",
        "      return resultString\n",
        "\n",
        "solution = Solution()\n",
        "solution.longestCommonPrefix([\"dog\",\"racecar\",\"car\"])# your code goes here"
      ],
      "metadata": {
        "colab": {
          "base_uri": "https://localhost:8080/",
          "height": 53
        },
        "id": "ntM4aE1H-1QX",
        "outputId": "87db2004-29a3-43e7-c78f-e66d7f9c3608"
      },
      "execution_count": null,
      "outputs": [
        {
          "output_type": "stream",
          "name": "stdout",
          "text": [
            "\n"
          ]
        },
        {
          "output_type": "execute_result",
          "data": {
            "text/plain": [
              "''"
            ],
            "application/vnd.google.colaboratory.intrinsic+json": {
              "type": "string"
            }
          },
          "metadata": {},
          "execution_count": 31
        }
      ]
    },
    {
      "cell_type": "code",
      "source": [
        "class Solution:\n",
        "    def isValid(self, s: str) -> bool:\n",
        "      stack=[]\n",
        "      openBrackets=['{','[','(']\n",
        "      closeBrackets=['}',']',')']\n",
        "      for bracket in s:\n",
        "        if(bracket in openBrackets):\n",
        "          stack.append(bracket)\n",
        "        else:\n",
        "          if(len(stack)==0):\n",
        "              return False\n",
        "          b=stack.pop()\n",
        "          if(closeBrackets.index(bracket)!=openBrackets.index(b)):\n",
        "              return False\n",
        "      if(len(stack)==0):\n",
        "        return True\n",
        "      return False\n",
        "\n",
        "\n",
        "\n",
        "solution = Solution()\n",
        "solution.isValid(\"()\")# your code goes here"
      ],
      "metadata": {
        "id": "f1EQ3u5dZfxu",
        "colab": {
          "base_uri": "https://localhost:8080/"
        },
        "outputId": "d80cebcd-44a3-4563-dceb-a5482e608dc6"
      },
      "execution_count": null,
      "outputs": [
        {
          "output_type": "execute_result",
          "data": {
            "text/plain": [
              "True"
            ]
          },
          "metadata": {},
          "execution_count": 15
        }
      ]
    },
    {
      "cell_type": "code",
      "source": [
        "# Linked List question\n",
        "# Merge two sorted Array\n",
        "from typing import Optional\n",
        "class ListNode:\n",
        "    def __init__(self, val=0, next=None):\n",
        "        self.val = val\n",
        "        self.next = next\n",
        "\n",
        "class Solution:\n",
        "    def mergeTwoLists(self, list1: Optional[ListNode], list2: Optional[ListNode]) -> Optional[ListNode]:\n",
        "        current=ListNode()\n",
        "        start=current\n",
        "        while list1 and list2:\n",
        "            if(list1.val>list2.val):\n",
        "              current.next=list2\n",
        "              list2=list2.next\n",
        "            else:\n",
        "              current.next=list1\n",
        "              list1=list1.next\n",
        "            current=current.next\n",
        "        if(list1):\n",
        "          current.next=list1\n",
        "        elif(list2):\n",
        "          current.next=list2\n",
        "        return start\n",
        "\n",
        "# Example usage:\n",
        "# Creating two sorted linked lists\n",
        "list1 = ListNode(1, ListNode(3, ListNode(5)))\n",
        "list2 = ListNode(2, ListNode(4, ListNode(6)))\n",
        "\n",
        "solution = Solution()\n",
        "merged_list = solution.mergeTwoLists(list1, list2)\n",
        "\n",
        "# Accessing elements in the merged list\n",
        "current_node = merged_list\n",
        "while current_node:\n",
        "    print(current_node.val)\n",
        "    current_node = current_node.next"
      ],
      "metadata": {
        "colab": {
          "base_uri": "https://localhost:8080/"
        },
        "id": "6-9v_oeyi6-m",
        "outputId": "4d5e59fb-e9a8-48db-f714-0bab4da07d97"
      },
      "execution_count": null,
      "outputs": [
        {
          "output_type": "stream",
          "name": "stdout",
          "text": [
            "0\n",
            "1\n",
            "2\n",
            "3\n",
            "4\n",
            "5\n",
            "6\n"
          ]
        }
      ]
    },
    {
      "cell_type": "code",
      "source": [
        "# Remove dublicates from sorted array\n",
        "from typing import List\n",
        "class Solution:\n",
        "    def removeDuplicates(self, nums: List[int]) -> int:\n",
        "      index=0\n",
        "      current=nums[index]\n",
        "      while(index<len(nums)-1):\n",
        "        # print(nums,index)\n",
        "        if(index+1<len(nums) and current==nums[index+1]):\n",
        "          nums.pop(index+1)\n",
        "        elif(index+1<len(nums) and current!=nums[index+1]):\n",
        "          current=nums[index+1]\n",
        "          index+=1\n",
        "      return len(nums)\n",
        "\n",
        "solution = Solution()\n",
        "solution.removeDuplicates([1,1,2])# your code goes here\n"
      ],
      "metadata": {
        "colab": {
          "base_uri": "https://localhost:8080/"
        },
        "id": "iSBOmfxTZhjM",
        "outputId": "8ea09075-c5f9-4db0-b6f8-c926f9ffdefa"
      },
      "execution_count": null,
      "outputs": [
        {
          "output_type": "execute_result",
          "data": {
            "text/plain": [
              "2"
            ]
          },
          "metadata": {},
          "execution_count": 37
        }
      ]
    },
    {
      "cell_type": "code",
      "source": [
        "class Solution:\n",
        "    def removeElement(self, nums: List[int], val: int) -> int:\n",
        "      for n in nums:\n",
        "        if(n==val):\n",
        "          print(n)\n",
        "          nums.remove(n)\n",
        "          print(nums)\n",
        "      return len(nums)\n",
        "solution = Solution()\n",
        "solution.removeElement([0,1,2,2,3,0,4,2],2)# your code goes here"
      ],
      "metadata": {
        "id": "-GuY9i18pPhI",
        "colab": {
          "base_uri": "https://localhost:8080/"
        },
        "outputId": "2f7eeddc-a27d-4c31-dcd8-c24703a1971b"
      },
      "execution_count": null,
      "outputs": [
        {
          "output_type": "stream",
          "name": "stdout",
          "text": [
            "2\n",
            "[0, 1, 2, 3, 0, 4, 2]\n",
            "2\n",
            "[0, 1, 3, 0, 4, 2]\n"
          ]
        },
        {
          "output_type": "execute_result",
          "data": {
            "text/plain": [
              "6"
            ]
          },
          "metadata": {},
          "execution_count": 50
        }
      ]
    },
    {
      "cell_type": "code",
      "source": [
        "# Search insert poisition using recursion a binary search problem\n",
        "from typing import List\n",
        "\n",
        "class Solution:\n",
        "    def searchInsert(self, nums: List[int], target: int) -> int:\n",
        "        mid = len(nums) // 2\n",
        "\n",
        "        if len(nums) == 0:\n",
        "            return 0\n",
        "\n",
        "        if nums[mid] == target:\n",
        "            return mid\n",
        "        elif target < nums[mid]:\n",
        "            return self.searchInsert(nums[:mid], target)\n",
        "        elif target > nums[mid]:\n",
        "            return mid + 1 + self.searchInsert(nums[mid + 1:], target)\n",
        "\n",
        "# Example usage:\n",
        "solution = Solution()\n",
        "result = solution.searchInsert([1, 3, 5, 6, 7], 0)\n",
        "print(\"Index:\", result)\n",
        "\n"
      ],
      "metadata": {
        "id": "6KDgJ7-FQTnx",
        "colab": {
          "base_uri": "https://localhost:8080/"
        },
        "outputId": "7e519a82-348c-41d6-c3f3-ad5fa2ea1dc2"
      },
      "execution_count": null,
      "outputs": [
        {
          "output_type": "stream",
          "name": "stdout",
          "text": [
            "Index: 0\n"
          ]
        }
      ]
    },
    {
      "cell_type": "code",
      "source": [
        "# Search inerst position using loop\n",
        "from typing import List\n",
        "\n",
        "class Solution:\n",
        "  def searchInsert(self,nums:List[int],target:int) ->int:\n",
        "    left,right=0,len(nums)-1\n",
        "    while(left<=right):\n",
        "      mid=left+((right-left)//2);\n",
        "      if(nums[mid]==target):\n",
        "        return mid\n",
        "      elif(target>nums[mid]):\n",
        "        left=mid+1\n",
        "      elif(target<nums[mid]):\n",
        "        right=mid-1\n",
        "    return ((left+right)//2)+1\n",
        "\n",
        "\n",
        "solution = Solution()\n",
        "result = solution.searchInsert([1, 2, 4, 5,6,8], 7)\n",
        "print(\"Index:\", result)"
      ],
      "metadata": {
        "id": "C6ySuAT6BZIt",
        "colab": {
          "base_uri": "https://localhost:8080/"
        },
        "outputId": "c4b854d9-9e56-40ef-bd9b-bf52c82587d9"
      },
      "execution_count": 41,
      "outputs": [
        {
          "output_type": "stream",
          "name": "stdout",
          "text": [
            "Index: 5\n"
          ]
        }
      ]
    },
    {
      "cell_type": "code",
      "source": [
        "class Solution:\n",
        "    def plusOne(self, digits: List[int]) -> List[int]:\n",
        "        power=0;\n",
        "        value=0;\n",
        "        # Get the number\n",
        "        for index,number in enumerate(digits[::-1]):\n",
        "           place=pow(10,index)\n",
        "           value+=number*place\n",
        "        # Adding one to the number\n",
        "        value=value+1\n",
        "        # Generating resultant array\n",
        "        result=[]\n",
        "        while(value):\n",
        "          result=[value%10]+result\n",
        "          # result.append(value%10)\n",
        "          value=value//10\n",
        "        return result\n",
        "\n",
        "solution = Solution()\n",
        "string1=solution.plusOne([1,2,4])"
      ],
      "metadata": {
        "id": "nzg2Wuirw_J2"
      },
      "execution_count": 53,
      "outputs": []
    },
    {
      "cell_type": "code",
      "source": [
        "# Add binary\n",
        "class Solution:\n",
        "    def convert(self,value,radix):\n",
        "        decimal=0\n",
        "        for index,b in enumerate(list(value)[::-1]):\n",
        "          decimal+=int(b)*pow(radix,index)\n",
        "        return decimal\n",
        "\n",
        "    def addBinary(self, a: str, b: str) -> str:\n",
        "     aDecimal=self.convert(a,2)\n",
        "     bDecimal=self.convert(b,2)\n",
        "     result=bin(aDecimal+bDecimal)[2:]\n",
        "     print(result)\n",
        "     return result\n",
        "solution=Solution()\n",
        "result=solution.addBinary(\"1010\",\"1011\")"
      ],
      "metadata": {
        "colab": {
          "base_uri": "https://localhost:8080/"
        },
        "id": "D17eVWDzDE7K",
        "outputId": "9fc60cf8-77f9-4255-8a09-d1fefcd2d376"
      },
      "execution_count": 75,
      "outputs": [
        {
          "output_type": "stream",
          "name": "stdout",
          "text": [
            "10101\n"
          ]
        }
      ]
    },
    {
      "cell_type": "code",
      "source": [
        "# Sqrt(x)\n",
        "\n",
        "class Solution:\n",
        "    def mySqrt(self, x: int) -> int:\n",
        "      result=1\n",
        "      for i in range((x//2)+1):\n",
        "        if(pow(i,2)<=x):\n",
        "            if(pow(i,2)==x):\n",
        "             result=i\n",
        "             break\n",
        "        elif(pow(i,2)>x):\n",
        "            print(i)\n",
        "            result=i-1\n",
        "            break\n",
        "      return result\n",
        "solution=Solution()\n",
        "result=solution.mySqrt(1)\n",
        "print(result)"
      ],
      "metadata": {
        "colab": {
          "base_uri": "https://localhost:8080/"
        },
        "id": "M31NMvqMJx6W",
        "outputId": "2180f976-5aab-48c4-cd95-0d6cdd122914"
      },
      "execution_count": 88,
      "outputs": [
        {
          "output_type": "stream",
          "name": "stdout",
          "text": [
            "0\n"
          ]
        }
      ]
    },
    {
      "cell_type": "code",
      "source": [],
      "metadata": {
        "id": "EJudLIkTX4za"
      },
      "execution_count": null,
      "outputs": []
    }
  ]
}