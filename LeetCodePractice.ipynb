{
  "nbformat": 4,
  "nbformat_minor": 0,
  "metadata": {
    "colab": {
      "provenance": []
    },
    "kernelspec": {
      "name": "python3",
      "display_name": "Python 3"
    },
    "language_info": {
      "name": "python"
    }
  },
  "cells": [
    {
      "cell_type": "code",
      "execution_count": null,
      "metadata": {
        "colab": {
          "base_uri": "https://localhost:8080/"
        },
        "id": "CCrbZDP8-h8U",
        "outputId": "746d769f-817f-485c-c9c9-e67813832c84"
      },
      "outputs": [
        {
          "output_type": "stream",
          "name": "stdout",
          "text": [
            "1994\n"
          ]
        }
      ],
      "source": [
        "# Roman to integer Problem Leet code\n",
        "class Solution:\n",
        "    def romanToInt(self, s: str) -> int:\n",
        "        m = {\n",
        "            'I': 1,\n",
        "            'V': 5,\n",
        "            'X': 10,\n",
        "            'L': 50,\n",
        "            'C': 100,\n",
        "            'D': 500,\n",
        "            'M': 1000\n",
        "        }\n",
        "        reversedString = s[::-1]\n",
        "        value=0\n",
        "        index=0\n",
        "        while index<len(s):\n",
        "          char=reversedString[index]\n",
        "          # case of IV and IX\n",
        "          if(index+1<len(s) and  (char=='V' or char=='X') and reversedString[index+1]=='I'):\n",
        "              value+=m[char]-1\n",
        "              index=index+1\n",
        "          # case of XL and XC\n",
        "          elif(index+1<len(s) and  (char=='L' or char=='C') and reversedString[index+1]=='X'):\n",
        "              value+=m[char]-10\n",
        "              index=index+1\n",
        "          # case of CD and CM\n",
        "          elif(index+1<len(s) and  (char=='D' or char=='M') and reversedString[index+1]=='C'):\n",
        "              value+=m[char]-100\n",
        "              index=index+1\n",
        "          else:\n",
        "            value+=m[char]\n",
        "          index+=1\n",
        "solution = Solution()\n",
        "solution.romanToInt(\"MCMXCIV\")# your code goes here"
      ]
    },
    {
      "cell_type": "code",
      "source": [
        "# Longest common prefix\n",
        "from typing import List\n",
        "\n",
        "class Solution:\n",
        "    def longestCommonPrefix(self, strs: List[str]) -> str:\n",
        "      resultString=\"\"\n",
        "      for charsTuple in zip(*strs):\n",
        "        all_chars_equal=all(character==charsTuple[0] for character in charsTuple)\n",
        "        if(all_chars_equal):\n",
        "          resultString+=charsTuple[0]\n",
        "      return resultString\n",
        "\n",
        "solution = Solution()\n",
        "solution.longestCommonPrefix([\"dog\",\"racecar\",\"car\"])# your code goes here"
      ],
      "metadata": {
        "colab": {
          "base_uri": "https://localhost:8080/",
          "height": 53
        },
        "id": "ntM4aE1H-1QX",
        "outputId": "87db2004-29a3-43e7-c78f-e66d7f9c3608"
      },
      "execution_count": null,
      "outputs": [
        {
          "output_type": "stream",
          "name": "stdout",
          "text": [
            "\n"
          ]
        },
        {
          "output_type": "execute_result",
          "data": {
            "text/plain": [
              "''"
            ],
            "application/vnd.google.colaboratory.intrinsic+json": {
              "type": "string"
            }
          },
          "metadata": {},
          "execution_count": 31
        }
      ]
    },
    {
      "cell_type": "code",
      "source": [
        "class Solution:\n",
        "    def isValid(self, s: str) -> bool:\n",
        "      stack=[]\n",
        "      openBrackets=['{','[','(']\n",
        "      closeBrackets=['}',']',')']\n",
        "      for bracket in s:\n",
        "        if(bracket in openBrackets):\n",
        "          stack.append(bracket)\n",
        "        else:\n",
        "          if(len(stack)==0):\n",
        "              return False\n",
        "          b=stack.pop()\n",
        "          if(closeBrackets.index(bracket)!=openBrackets.index(b)):\n",
        "              return False\n",
        "      if(len(stack)==0):\n",
        "        return True\n",
        "      return False\n",
        "\n",
        "\n",
        "\n",
        "solution = Solution()\n",
        "solution.isValid(\"()\")# your code goes here"
      ],
      "metadata": {
        "id": "f1EQ3u5dZfxu",
        "colab": {
          "base_uri": "https://localhost:8080/"
        },
        "outputId": "d80cebcd-44a3-4563-dceb-a5482e608dc6"
      },
      "execution_count": null,
      "outputs": [
        {
          "output_type": "execute_result",
          "data": {
            "text/plain": [
              "True"
            ]
          },
          "metadata": {},
          "execution_count": 15
        }
      ]
    },
    {
      "cell_type": "code",
      "source": [
        "# Linked List question\n",
        "# Merge two sorted Array\n",
        "from typing import Optional\n",
        "class ListNode:\n",
        "    def __init__(self, val=0, next=None):\n",
        "        self.val = val\n",
        "        self.next = next\n",
        "\n",
        "class Solution:\n",
        "    def mergeTwoLists(self, list1: Optional[ListNode], list2: Optional[ListNode]) -> Optional[ListNode]:\n",
        "        current=ListNode()\n",
        "        start=current\n",
        "        while list1 and list2:\n",
        "            if(list1.val>list2.val):\n",
        "              current.next=list2\n",
        "              list2=list2.next\n",
        "            else:\n",
        "              current.next=list1\n",
        "              list1=list1.next\n",
        "            current=current.next\n",
        "        if(list1):\n",
        "          current.next=list1\n",
        "        elif(list2):\n",
        "          current.next=list2\n",
        "        return start\n",
        "\n",
        "# Example usage:\n",
        "# Creating two sorted linked lists\n",
        "list1 = ListNode(1, ListNode(3, ListNode(5)))\n",
        "list2 = ListNode(2, ListNode(4, ListNode(6)))\n",
        "\n",
        "solution = Solution()\n",
        "merged_list = solution.mergeTwoLists(list1, list2)\n",
        "\n",
        "# Accessing elements in the merged list\n",
        "current_node = merged_list\n",
        "while current_node:\n",
        "    print(current_node.val)\n",
        "    current_node = current_node.next"
      ],
      "metadata": {
        "colab": {
          "base_uri": "https://localhost:8080/"
        },
        "id": "6-9v_oeyi6-m",
        "outputId": "4d5e59fb-e9a8-48db-f714-0bab4da07d97"
      },
      "execution_count": null,
      "outputs": [
        {
          "output_type": "stream",
          "name": "stdout",
          "text": [
            "0\n",
            "1\n",
            "2\n",
            "3\n",
            "4\n",
            "5\n",
            "6\n"
          ]
        }
      ]
    }
  ]
}